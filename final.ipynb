{
 "cells": [
  {
   "cell_type": "markdown",
   "metadata": {},
   "source": [
    "# The EM Algorithm for Gaussian Mixtures\n",
    "### Maks Cegielski-Johnson & Jake Pitkin\n",
    "\n",
    "**CS 6190: Probabilistic Modeling - Spring 2018**<br>\n",
    "**April 27 2018**"
   ]
  },
  {
   "cell_type": "markdown",
   "metadata": {},
   "source": [
    "## Introduction\n",
    "\n",
    "We will be exploring the EM (Expectation-Maximization) algorithm for Gaussian mixtures. The EM algorithm is an iterative method that alternates between and E step and a M step. In the E step an expectation of the log-likelihood is calculated using the current estimate for the parameters. Then in the M step, new parameters are computed to maximize the expected log-likelihood from the previous step. This continues for some given number of epochs.\n",
    "\n",
    "We will start with a proof of correctness for the EM algorithm with Gaussian mixtures, followed by an implimentation in Python, and closing with some experiments testing the effectiveness of the algorithm."
   ]
  },
  {
   "cell_type": "markdown",
   "metadata": {},
   "source": [
    "## Proof of Correctness\n",
    "\n",
    "Let's restate the general EM algorithm. First, we had the E-step:\n",
    "$$Q(\\theta, \\hat{\\theta}^{(t)}) = \\mathbb{E}_{z \\mid x; \\hat{\\theta}^{(t)}}\n",
    "\\big[\\ln L(\\theta; x,z)\\big]$$\n",
    "Where $z$ are latent variables, and $x$ are observed variables. Then, the M-step is\n",
    "$$\\theta^{(t+1)} = \\arg\\max_{\\theta} Q(\\theta, \\hat{\\theta}^{(t)})$$\n",
    "\n",
    "We want to apply this algorithm to our Gaussian Mixture Model, where\n",
    "$$p(x_i \\mid z_i) = \\prod_{j=1}^{J} \\mathcal{N}(x_i \\mid \\mu_j, \\Sigma_j)^{z_{ij}}$$\n",
    "where $J$ is the number of labels (or Gaussians) we have. We have\n",
    "$$p(z_{ij} = 1) = \\tau_{j}$$\n",
    "where $\\tau_j$ is a probability vector. This gives us \n",
    "$$p(z_{i}) = \\prod_{j=1}^J = \\tau_j^{z_{ij}}$$\n",
    "\n",
    "We can draw the variable diagram as\n",
    "![title](img/fig1.png)\n",
    "\n",
    "Next, we can compute the likelihood as\n",
    "\n",
    "\\begin{align*}\n",
    "L(\\theta; x,z) &= \\prod_{i=1}^N p(x_i \\mid z_i; \\theta)p(z_i;\\theta)\\\\\n",
    "&= \\prod_{i=1}^N\\prod_{j=1}^J \\tau_j^{z_{ij}} \\mathcal{N}(x_i; \\mu_j, \\Sigma_j)^{z_{ij}}\n",
    "\\end{align*}\n",
    "\n",
    "Then, for our E-step we need to compute the log likelihood,\n",
    "\n",
    "$$\\ln(L(\\theta; x,z)) = \\sum_{i=1}^N\\sum_{j=1}^J z_{ij}\\Big(\\ln\\tau_j + \\ln \\mathcal{N}(x_i; \\mu_j, \\Sigma_j)\\Big)$$\n",
    "And we need to compute\n",
    "\\begin{align*}\n",
    "p(z_{ij} = 1 \\mid x_i; \\hat{\\theta}^{(t)}) &= \\frac{p(x_i \\mid z_{ij})P(z_{ij} = 1)}{p(x_i)}\\\\\n",
    "&= \\frac{\\hat{\\tau}_j \\mathcal{N}(x_i; \\hat{\\mu_j}, \\hat{\\Sigma_j})}{\\sum_{j=1}^{J} \\hat{\\tau}_j \\mathcal{N}(x_i; \\hat{\\mu_j}, \\hat{\\Sigma_j})}\\\\\n",
    "&\\hat{=}~ p_{ij}\n",
    "\\end{align*}\n",
    "\n",
    "Then\n",
    "\\begin{align*}\n",
    "Q(\\theta, \\hat{\\theta}^{(t)}) &= \\mathbb{E}_{z \\mid x; \\hat{\\theta}^{(t)}}\n",
    "\\Bigg[ \\sum_{i=1}^N\\sum_{j=1}^J z_{ij}\\Big(\\ln\\tau_j + \\ln \\mathcal{N}(x_i; \\mu_j, \\Sigma_j)\\Big)\\Bigg]\\\\\n",
    "&=  \\sum_{i=1}^N\\sum_{j=1}^J \\Big(\\ln\\tau_j + \\ln \\mathcal{N}(x_i; \\mu_j, \\Sigma_j)\\Big)\\mathbb{E}_{z \\mid x; \\hat{\\theta}^{(t)}}[z_{ij}]\n",
    "\\end{align*}\n",
    "and $\\mathbb{E}_{z \\mid x; \\hat{\\theta}^{(t)}}[z_{ij}] = p_{ij}$.\n",
    "\n",
    "Now for the M-step, we want to calculate $\\frac{d}{\\mu_j}$, $\\frac{d}{\\Sigma_j}$, and $\\frac{d}{\\tau_j}$.\n",
    "\n",
    "\\begin{align*}\n",
    "0 &= \\frac{d}{\\mu_j} \\sum_{i=1}^N\\sum_{j=1}^J \\Big(\\ln\\tau_j + \\ln \\mathcal{N}(x_i; \\mu_j, \\Sigma_j)\\Big) p_{ij}\\\\\n",
    "&= \\sum_{i=1}^N\\sum_{j=1}^J p_{ij} (\\mu_j - x_{i})\\\\\n",
    "&= \\sum_{i=1}^N p_{ij}\\mu_j - \\sum_{i=1}^N p_{ij}x_{i}\\\\\n",
    "\\mu_j &= \\frac{\\sum_{i=1}^N p_{ij}x_{i}}{\\sum_{i=1}^N p_{ij}}\n",
    "\\end{align*}\n",
    "And similarly\n",
    "\\begin{align*}\n",
    "0 &= \\frac{d}{\\Sigma_j} \\sum_{i=1}^N\\sum_{j=1}^J \\Big(\\ln\\tau_j + \\ln \\mathcal{N}(x_i; \\mu_j, \\Sigma_j)\\Big) p_{ij}\\\\\n",
    "\\Sigma_j &= \\frac{\\sum_{i=1}^N p_{ij}(x_i - \\mu_j)(x_i - \\mu_j)^T}{\\sum_{i=1}^N p_{ij}}\n",
    "\\end{align*}\n",
    "Finally to find $\\frac{d}{\\tau_j}$, we need $\\frac{j=1}{J} \\tau_j = $, therefore we have to use Lagrange multipliers to enforce this constraint. \n",
    "\n",
    "\\begin{align*}\n",
    "0 &= \\frac{d}{d \\tau_j} \\sum_{i=1}^{N}\\sum_{j=1}^J p_{ij} \\ln \\tau_j + \\lambda (\\sum_{j=1}^J \\tau_j - 1)\\\\\n",
    "&= \\sum_{i=1}^N \\frac{p_{ij}}{\\tau_j} + \\lambda \n",
    "\\tau_j &= \\frac{\\sum_{i=1}^N p_{ij}}{-\\lambda}\n",
    "\\end{align*}\n",
    "And we set $\\lambda = -N$, giving us\n",
    "$$\\tau_j = \\frac{\\sum_{i=1}^N p_{ij}}{N}$$\n",
    "Using these derivation for the parameters gives us the M-step. \n",
    "\n",
    "Now, we can use both E and M steps to get an algorithm to classify our data. "
   ]
  },
  {
   "cell_type": "markdown",
   "metadata": {},
   "source": [
    "## Implimentation \n",
    "\n",
    "Below is a our implimentation of the EM algorithm for Gaussian Mixtures."
   ]
  },
  {
   "cell_type": "code",
   "execution_count": 21,
   "metadata": {
    "collapsed": true
   },
   "outputs": [],
   "source": [
    "import pandas as pd\n",
    "import numpy as np\n",
    "import random\n",
    "import matplotlib.pyplot as plt\n",
    "import scipy.stats as stats\n",
    "import matplotlib.cm as cm\n",
    "\n",
    "## EM Algorithm Implementation ##\n",
    "def em(data, classes, epoch):\n",
    "    sample_mean = np.average(data, axis=0)\n",
    "    component_variance = 1.0/len(data)*sum((data - sample_mean)**2)\n",
    "    mu = [data[np.random.choice(range(data.shape[0]))] for i in range(classes)]\n",
    "    sigma2 = [component_variance for i in range(classes)]\n",
    "    psi = [1.0/classes for i in range(classes)]\n",
    "    for i in range(epoch):\n",
    "        gamma = e_step(data, classes, mu, sigma2, psi)\n",
    "        mu,sigma2,psi = m_step(data,classes,gamma)\n",
    "    return gamma\n",
    "\n",
    "def e_step(data, classes, mu, sigma2, psi):\n",
    "    gamma = np.zeros((len(data), classes))\n",
    "    for i in range(len(data)):\n",
    "        normals = [psi[k]*stats.multivariate_normal.pdf(data[i], mu[k], np.diag(sigma2[k]), allow_singular=True)\\\n",
    "                     for k in range(classes)] \n",
    "        for k in range(classes):\n",
    "            gamma[i][k] = normals[k]/sum(normals)\n",
    "    return gamma\n",
    "\n",
    "\n",
    "def m_step(data, classes, gamma):\n",
    "    sumGamma = [sum(gamma[:,k]) for k in range(classes)]\n",
    "    psi = [sumGamma[k]/data.shape[0] for k in range(classes)]\n",
    "    mu = [scalarSum(gamma[:,k], data)/sumGamma[k] for k in range(classes)]\n",
    "    sigma2 = [scalarSquareSum(gamma[:,k], data, mu[k])/sumGamma[k] for k in range(classes)]\n",
    "    return mu, sigma2, psi\n",
    "\n",
    "def scalarSum(gamma, x):\n",
    "    total = np.zeros(x[0].shape)\n",
    "    for i in range(x.shape[0]):\n",
    "        total += gamma[i]*x[i]\n",
    "    return total\n",
    "\n",
    "def scalarSquareSum(gamma, x, m):\n",
    "    total = np.zeros(x[0].shape)\n",
    "    for i in range(x.shape[0]):\n",
    "        total += gamma[i]*(x[i] - m)**2\n",
    "    return total"
   ]
  },
  {
   "cell_type": "markdown",
   "metadata": {},
   "source": [
    "## Testing the model\n",
    "\n",
    "First we will generate some easy data to cluster and test the EM algorithms ability to cluster it. The data is 300 generated points, in two dimentions and clustered into three groups. The EM algorithm will predict a cluster for each point and color the point accordingly."
   ]
  },
  {
   "cell_type": "code",
   "execution_count": 55,
   "metadata": {},
   "outputs": [
    {
     "data": {
      "image/png": "[encoded data removed]",
      "text/plain": [
       "<matplotlib.figure.Figure at 0x1a1c7d6390>"
      ]
     },
     "metadata": {},
     "output_type": "display_data"
    }
   ],
   "source": [
    "def generateData(dimension, amount, classes):\n",
    "    dimension = 2\n",
    "    centers = []\n",
    "    r = 5.0\n",
    "    for i in range(classes):\n",
    "        centers.append(np.array([r * np.cos(2 * np.pi * i / classes), r * np.sin(2 * np.pi * i / classes)]))\n",
    "    data = []\n",
    "    labels = []\n",
    "    for sample in range(amount):\n",
    "        center = np.random.choice(range(classes))\n",
    "        labels.append(center)\n",
    "        C = centers[center]\n",
    "        data.append(np.array([np.random.normal(C[0],1.0), np.random.normal(C[1], 1.0)]))\n",
    "    return np.array(data),labels\n",
    "\n",
    "data,labels = generateData(dimension=2,amount=300,classes=3)\n",
    "probs = em(data, classes=classes, epoch=50)\n",
    "prediction = np.array([np.argmax(probs[i]) for i in range(probs.shape[0])])\n",
    "\n",
    "colors = cm.rainbow(np.linspace(0, 1, classes))\n",
    "\n",
    "for i in range(classes):\n",
    "    indices = np.where(prediction == i)\n",
    "    points = np.take(data,indices,axis=0)[0]\n",
    "    plt.scatter([k[0] for k in points],[k[1] for k in points], color=colors[i])\n",
    "    \n",
    "plt.show()"
   ]
  },
  {
   "cell_type": "markdown",
   "metadata": {},
   "source": [
    "We see that the EM algorithm does a great job on data that: is low dimension, there are a small number of clusters, and there is no noise.\n",
    "\n",
    "Next, let's test it on the classic Iris dataset."
   ]
  },
  {
   "cell_type": "code",
   "execution_count": 37,
   "metadata": {},
   "outputs": [
    {
     "data": {
      "image/png": "[encoded data removed]",
      "text/plain": [
       "<matplotlib.figure.Figure at 0x1a1c33f198>"
      ]
     },
     "metadata": {},
     "output_type": "display_data"
    },
    {
     "data": {
      "image/png": "[encoded data removed]",
      "text/plain": [
       "<matplotlib.figure.Figure at 0x1a1c33f898>"
      ]
     },
     "metadata": {},
     "output_type": "display_data"
    }
   ],
   "source": [
    "# Read in the dataset\n",
    "iris = pd.read_csv(\"data/iris.csv\")\n",
    "iris.columns = ['sepal_length', 'sepal_width', 'petal_length', 'petal_width', 'label']\n",
    "iris['label'] = iris['label'].replace(['Iris-setosa', 'Iris-versicolor', 'Iris-virginica'], [1, 2, 3])\n",
    "\n",
    "# Create feature vectors and labels\n",
    "iris_vectors = []\n",
    "labels = []\n",
    "for row in iris.iterrows():\n",
    "    iris_vectors.append(np.array([1, row[1][0], row[1][1], row[1][2], row[1][3]]))\n",
    "    labels.append(row[1][4])\n",
    "\n",
    "# Separate into train and test data\n",
    "setosa_train = iris_vectors[0:30]\n",
    "setosa_test = iris_vectors[30:50]\n",
    "versicolor_train = iris_vectors[50:80]\n",
    "versicolor_test = iris_vectors[80:100]\n",
    "virginica_train = iris_vectors[100:130]\n",
    "virginica_test = iris_vectors[130:150]\n",
    "train_data = setosa_train + versicolor_train + virginica_train\n",
    "train_data = np.array(train_data)\n",
    "test_data = setosa_test + versicolor_test + virginica_test\n",
    "test_data = np.array(test_data)\n",
    "\n",
    "# EM algorithm on the iris data\n",
    "classes = 3\n",
    "epoch = 50\n",
    "probabilities = em(np.array(iris_vectors), classes=classes, epoch=epoch)\n",
    "predictions = np.array([np.argmax(probabilities[i]) for i in range(probabilities.shape[0])])\n",
    "colors = cm.rainbow(np.linspace(0, 1, classes))\n",
    "\n",
    "for i in range(classes):\n",
    "    indices = np.where(predictions == i)\n",
    "    points = np.take(np.array(iris_vectors), indices, axis=0)[0]\n",
    "    plt.scatter([k[0] for k in points], [k[1] for k in points], color=colors[i])\n",
    "plt.show()\n",
    "\n",
    "plt.scatter([k[0] for k in np.array(iris_vectors)],[k[1] for k in np.array(iris_vectors)])\n",
    "plt.show()"
   ]
  },
  {
   "cell_type": "code",
   "execution_count": null,
   "metadata": {
    "collapsed": true
   },
   "outputs": [],
   "source": []
  }
 ],
 "metadata": {
  "kernelspec": {
   "display_name": "Python 3",
   "language": "python",
   "name": "python3"
  },
  "language_info": {
   "codemirror_mode": {
    "name": "ipython",
    "version": 3
   },
   "file_extension": ".py",
   "mimetype": "text/x-python",
   "name": "python",
   "nbconvert_exporter": "python",
   "pygments_lexer": "ipython3",
   "version": "3.6.3"
  }
 },
 "nbformat": 4,
 "nbformat_minor": 2
}
